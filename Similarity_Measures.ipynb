{
 "cells": [
  {
   "cell_type": "code",
   "execution_count": 1,
   "id": "97a7ebf1-3984-46c7-a100-086b60719783",
   "metadata": {},
   "outputs": [],
   "source": [
    "import numpy as np\n",
    "from scipy.spatial.distance import cosine, euclidean\n",
    "from scipy.stats import pearsonr"
   ]
  },
  {
   "cell_type": "code",
   "execution_count": 6,
   "id": "5c979ea9-ee81-49b2-a323-0afcdba55790",
   "metadata": {},
   "outputs": [],
   "source": [
    "user1 = np.array([4,5,2,3,4])\n",
    "user2 = np.array([5,3,2,4,5])"
   ]
  },
  {
   "cell_type": "code",
   "execution_count": 10,
   "id": "3ca43f87-684c-4079-8cc9-891ec5eda657",
   "metadata": {},
   "outputs": [
    {
     "name": "stdout",
     "output_type": "stream",
     "text": [
      "Cosine Similarity: 0.9548\n"
     ]
    }
   ],
   "source": [
    "# 1. Cosine Similarity; (1 - cosine distance) gives similarity)\n",
    "cosine_similarity = 1 - cosine(user1, user2)\n",
    "print(f\"Cosine Similarity: {cosine_similarity:.4f}\")"
   ]
  },
  {
   "cell_type": "code",
   "execution_count": 8,
   "id": "6bb74554-c8ef-4d53-8ace-2f60fe3266f2",
   "metadata": {},
   "outputs": [
    {
     "name": "stdout",
     "output_type": "stream",
     "text": [
      "Pearson Correlation Similarity: 0.4372\n"
     ]
    }
   ],
   "source": [
    "pearson_corr, _ = pearsonr(user1, user2)\n",
    "print(f\"Pearson Correlation Similarity: {pearson_corr:.4f}\")"
   ]
  },
  {
   "cell_type": "code",
   "execution_count": 12,
   "id": "5927a548-ecab-4583-9710-52fed7cc84cc",
   "metadata": {},
   "outputs": [
    {
     "name": "stdout",
     "output_type": "stream",
     "text": [
      "Euclidean Distance Similarity: 0.2743\n"
     ]
    }
   ],
   "source": [
    "euclidean_distance = euclidean(user1, user2)\n",
    "euclidean_similarity = 1 / (1 + euclidean_distance)\n",
    "print(f\"Euclidean Distance Similarity: {euclidean_similarity:.4f}\")"
   ]
  },
  {
   "cell_type": "code",
   "execution_count": 14,
   "id": "066b4427-550a-4a74-a68f-15780bbd29f2",
   "metadata": {},
   "outputs": [
    {
     "name": "stdout",
     "output_type": "stream",
     "text": [
      "         Bahubali  Mufasa  Interstellar  RRR  Mrs\n",
      "Raju            5       3             4    4    2\n",
      "John            3       1             2    3    3\n",
      "Ramya           4       3             4    5    1\n",
      "Kishore         2       2             1    2    4\n"
     ]
    }
   ],
   "source": [
    "import numpy as np\n",
    "import pandas as pd\n",
    "from scipy.spatial.distance import cosine, euclidean\n",
    "from scipy.stats import pearsonr\n",
    "ratings = np.array([\n",
    "    [5, 3, 4, 4, 2],\n",
    "    [3, 1, 2, 3, 3],\n",
    "    [4, 3, 4, 5, 1],\n",
    "    [2, 2, 1, 2, 4]\n",
    "])\n",
    "users = [\"Raju\", \"John\", \"Ramya\", \"Kishore\"]\n",
    "df = pd.DataFrame(ratings, index=users, columns=[\"Bahubali\",\"Mufasa\",\"Interstellar\",\"RRR\",\"Mrs\"])\n",
    "print(df)\n",
    "def compute_similarity(df):\n",
    "    num_users = df.shape[0]\n",
    "    similarity_results = []\n",
    "\n",
    "    for i in range(num_users):\n",
    "        for j in range(i + 1, num_users):\n",
    "            user1, user2 = df.iloc[i], df.iloc[j]\n",
    "            cos_sim = 1 - cosine(user1, user2)\n",
    "            pearson_sim, _ = pearsonr(user1, user2)\n",
    "            euc_dist = euclidean(user1, user2)\n",
    "            euc_sim = 1 / (1 + euc_dist)\n",
    "            similarity_results.append([users[i], users[j], cos_sim, pearson_sim, euc_sim])\n",
    "    return pd.DataFrame(similarity_results, columns=[\"User 1\", \"User 2\", \"Cosine Similarity\", \"Pearson Correlation\", \"Euclidean Similarity\"])\n",
    "similarity_df = compute_similarity(df)"
   ]
  },
  {
   "cell_type": "code",
   "execution_count": 26,
   "id": "ab977033-4c28-4c5b-a3bd-6e9c30ade2ca",
   "metadata": {},
   "outputs": [
    {
     "name": "stdout",
     "output_type": "stream",
     "text": [
      "         Bahubali  Mufasa  Interstellar  RRR  Mrs\n",
      "Raju            5       3             4    4    2\n",
      "John            3       1             2    3    3\n",
      "Ramya           4       3             4    5    1\n",
      "Kishore         2       2             1    2    4\n",
      "  User 1   User 2  Cosine Similarity  Pearson Correlation  \\\n",
      "0   Raju     John           0.929670             0.196116   \n",
      "1   Raju    Ramya           0.978337             0.838557   \n",
      "2   Raju  Kishore           0.799014            -0.720577   \n",
      "3   John    Ramya           0.885465             0.036860   \n",
      "4   John  Kishore           0.919145             0.408248   \n",
      "5  Ramya  Kishore           0.725961            -0.812605   \n",
      "\n",
      "   Euclidean Similarity  \n",
      "0              0.210897  \n",
      "1              0.366025  \n",
      "2              0.161390  \n",
      "3              0.195194  \n",
      "4              0.309017  \n",
      "5              0.150221  \n"
     ]
    }
   ],
   "source": [
    "import numpy as np\n",
    "import pandas as pd\n",
    "from scipy.spatial.distance import cosine, euclidean\n",
    "from scipy.stats import pearsonr\n",
    "\n",
    "#User-item rating matrix for 4 users\n",
    "ratings = np.array([\n",
    "    [5, 3, 4, 4, 2],  # User A\n",
    "    [3, 1, 2, 3, 3],  # User B\n",
    "    [4, 3, 4, 5, 1],  # User C\n",
    "    [2, 2, 1, 2, 4]   # User D\n",
    "])\n",
    "\n",
    "users = [\"Raju\", \"John\", \"Ramya\", \"Kishore\"]\n",
    "df = pd.DataFrame(ratings, index=users, columns=[\"Bahubali\",\"Mufasa\",\"Interstellar\",\"RRR\",\"Mrs\"])\n",
    "print(df)\n",
    "\n",
    "# Function to compute similarity\n",
    "def compute_similarity(df):\n",
    "    num_users = df.shape[0]\n",
    "    similarity_results = []\n",
    "\n",
    "    for i in range(num_users):\n",
    "        for j in range(i + 1, num_users):  # Avoid redundant pairs\n",
    "            user1, user2 = df.iloc[i], df.iloc[j]\n",
    "\n",
    "            # Cosine Similarity\n",
    "            cos_sim = 1 - cosine(user1, user2)\n",
    "\n",
    "            # Pearson Correlation Similarity\n",
    "            pearson_sim, _ = pearsonr(user1, user2)\n",
    "\n",
    "            # Euclidean Distance Similarity\n",
    "            euc_dist = euclidean(user1, user2)\n",
    "            euc_sim = 1 / (1 + euc_dist)  # Normalize to [0,1]\n",
    "\n",
    "            similarity_results.append([users[i], users[j], cos_sim, pearson_sim, euc_sim])\n",
    "\n",
    "    return pd.DataFrame(similarity_results, columns=[\"User 1\", \"User 2\", \"Cosine Similarity\", \"Pearson Correlation\", \"Euclidean Similarity\"])\n",
    "\n",
    "# Compute similarity matrix\n",
    "similarity_df = compute_similarity(df)\n",
    "\n",
    "# Display results\n",
    "print(similarity_df)"
   ]
  },
  {
   "cell_type": "code",
   "execution_count": null,
   "id": "354a0cc4-95c2-4256-9d93-8aaa14b6802c",
   "metadata": {},
   "outputs": [],
   "source": []
  },
  {
   "cell_type": "code",
   "execution_count": null,
   "id": "76e07ed1-c087-4dcb-b919-ed605ddde7ec",
   "metadata": {},
   "outputs": [],
   "source": []
  },
  {
   "cell_type": "code",
   "execution_count": null,
   "id": "8962278c-dfef-4e2d-907f-ff7f191caba1",
   "metadata": {},
   "outputs": [],
   "source": []
  },
  {
   "cell_type": "code",
   "execution_count": null,
   "id": "06ec6824-f122-4d88-89cb-702b74c8df15",
   "metadata": {},
   "outputs": [],
   "source": []
  },
  {
   "cell_type": "code",
   "execution_count": null,
   "id": "d08982a7-3159-4e89-86b9-482dbdee9ab1",
   "metadata": {},
   "outputs": [],
   "source": []
  },
  {
   "cell_type": "code",
   "execution_count": null,
   "id": "daa42920-0ba8-4809-842e-78c07cd0175c",
   "metadata": {},
   "outputs": [],
   "source": []
  },
  {
   "cell_type": "code",
   "execution_count": null,
   "id": "1addd4c7-12f4-416c-8bab-5afc1f075592",
   "metadata": {},
   "outputs": [],
   "source": []
  },
  {
   "cell_type": "code",
   "execution_count": null,
   "id": "c2f7fa41-b6f7-4850-b02f-27ab6ae5a40c",
   "metadata": {},
   "outputs": [],
   "source": []
  },
  {
   "cell_type": "code",
   "execution_count": null,
   "id": "a83bb616-8ad2-432e-ba27-ff797eb0987e",
   "metadata": {},
   "outputs": [],
   "source": []
  },
  {
   "cell_type": "code",
   "execution_count": null,
   "id": "4153267c-d4a3-4f22-935a-f49575e1488b",
   "metadata": {},
   "outputs": [],
   "source": []
  },
  {
   "cell_type": "code",
   "execution_count": null,
   "id": "f9f241e7-c90d-4b1f-9b35-1d7b0cd3599b",
   "metadata": {},
   "outputs": [],
   "source": []
  }
 ],
 "metadata": {
  "kernelspec": {
   "display_name": "Python [conda env:base] *",
   "language": "python",
   "name": "conda-base-py"
  },
  "language_info": {
   "codemirror_mode": {
    "name": "ipython",
    "version": 3
   },
   "file_extension": ".py",
   "mimetype": "text/x-python",
   "name": "python",
   "nbconvert_exporter": "python",
   "pygments_lexer": "ipython3",
   "version": "3.12.7"
  }
 },
 "nbformat": 4,
 "nbformat_minor": 5
}
