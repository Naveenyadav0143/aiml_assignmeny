{
 "cells": [
  {
   "cell_type": "code",
   "execution_count": 15,
   "id": "9ec5c2b5-6efa-4a21-aaec-68d6a23f43d5",
   "metadata": {},
   "outputs": [],
   "source": [
    "import numpy as np"
   ]
  },
  {
   "cell_type": "code",
   "execution_count": 17,
   "id": "7a303d78-5cf3-4261-a923-6e9bc6714453",
   "metadata": {},
   "outputs": [
    {
     "data": {
      "text/plain": [
       "[1, 3, 5, 'A', 6]"
      ]
     },
     "execution_count": 17,
     "metadata": {},
     "output_type": "execute_result"
    }
   ],
   "source": [
    "#Numpy array\n",
    "[1,3,5,'A',6]"
   ]
  },
  {
   "cell_type": "code",
   "execution_count": 19,
   "id": "38d5e9d7-2f43-49f9-b71d-5cee36f1e43c",
   "metadata": {},
   "outputs": [
    {
     "name": "stdout",
     "output_type": "stream",
     "text": [
      "[45 67 57 60]\n",
      "<class 'numpy.ndarray'>\n",
      "int32\n"
     ]
    }
   ],
   "source": [
    "x = np.array([45,67,57,60])\n",
    "print(x)\n",
    "print(type(x))\n",
    "print(x.dtype)"
   ]
  },
  {
   "cell_type": "code",
   "execution_count": 27,
   "id": "5fea73b9-1a59-4292-8e45-76aea6a09474",
   "metadata": {},
   "outputs": [
    {
     "ename": "SyntaxError",
     "evalue": "invalid syntax. Perhaps you forgot a comma? (1806012176.py, line 1)",
     "output_type": "error",
     "traceback": [
      "\u001b[1;36m  Cell \u001b[1;32mIn[27], line 1\u001b[1;36m\u001b[0m\n\u001b[1;33m    a1 = np.array([45. 67. 57. 9.8])\u001b[0m\n\u001b[1;37m                   ^\u001b[0m\n\u001b[1;31mSyntaxError\u001b[0m\u001b[1;31m:\u001b[0m invalid syntax. Perhaps you forgot a comma?\n"
     ]
    }
   ],
   "source": [
    "a1 = np.array([45. 67. 57. 9.8])\n",
    "print(a1)\n",
    "print(type(a1))\n",
    "print(a1.dtype)"
   ]
  },
  {
   "cell_type": "code",
   "execution_count": 25,
   "id": "808e4162-ebef-4965-83da-18206288a820",
   "metadata": {},
   "outputs": [
    {
     "name": "stdout",
     "output_type": "stream",
     "text": [
      "[[20 40]\n",
      " [30 60]]\n",
      "<class 'numpy.ndarray'>\n",
      "int32\n",
      "(2, 2)\n"
     ]
    }
   ],
   "source": [
    "a2 = np.array([[20,40],[30,60]])\n",
    "print(a2)\n",
    "print(type(a2))\n",
    "print(a2.dtype)\n",
    "print(a2.shape)"
   ]
  },
  {
   "cell_type": "code",
   "execution_count": 35,
   "id": "2a153c75-f22f-4ee8-a133-8f223e29a6d4",
   "metadata": {},
   "outputs": [
    {
     "name": "stdout",
     "output_type": "stream",
     "text": [
      "[[10]\n",
      " [20]\n",
      " [30]\n",
      " [40]]\n",
      "(4, 1)\n"
     ]
    }
   ],
   "source": [
    "a = np.array([10,20,30,40])\n",
    "b = a.reshape(4,1)\n",
    "print(b)\n",
    "print(b.shape)"
   ]
  },
  {
   "cell_type": "code",
   "execution_count": 41,
   "id": "8f2cb482-cc58-4bf9-bf2a-cca717045528",
   "metadata": {},
   "outputs": [
    {
     "name": "stdout",
     "output_type": "stream",
     "text": [
      "[3 4 5 6 7 8 9]\n"
     ]
    },
    {
     "data": {
      "text/plain": [
       "numpy.ndarray"
      ]
     },
     "execution_count": 41,
     "metadata": {},
     "output_type": "execute_result"
    }
   ],
   "source": [
    "# Create an array with arange \n",
    "c = np.arange(3,10)\n",
    "print(c)\n",
    "type(c)"
   ]
  },
  {
   "cell_type": "raw",
   "id": "3fb480ea-f161-46fb-9d03-b599b469c4d8",
   "metadata": {},
   "source": [
    "d = np.array([1.3467, 3.10987, 4.91236])\n",
    "print(d)\n",
    "np.around(d,2)"
   ]
  },
  {
   "cell_type": "code",
   "execution_count": 43,
   "id": "ec4c29ca-03af-4563-aae5-83054f23d4c7",
   "metadata": {},
   "outputs": [
    {
     "name": "stdout",
     "output_type": "stream",
     "text": [
      "[1.3467  3.10987 4.91236]\n"
     ]
    },
    {
     "data": {
      "text/plain": [
       "array([1.35, 3.11, 4.91])"
      ]
     },
     "execution_count": 43,
     "metadata": {},
     "output_type": "execute_result"
    }
   ],
   "source": [
    "d = np.array([1.3467, 3.10987, 4.91236])\n",
    "print(d)\n",
    "np.around(d,2)"
   ]
  },
  {
   "cell_type": "code",
   "execution_count": 45,
   "id": "a0e0d604-2599-42d7-bff8-8b37de87fa3f",
   "metadata": {},
   "outputs": [
    {
     "name": "stdout",
     "output_type": "stream",
     "text": [
      "[1.3467  3.10987 4.912  ]\n",
      "[1.16 1.76 2.22]\n"
     ]
    }
   ],
   "source": [
    "d = np.array([1.3467, 3.10987, 4.912])\n",
    "print(d)\n",
    "print(np.around(np.sqrt(d),2))"
   ]
  },
  {
   "cell_type": "code",
   "execution_count": 47,
   "id": "51442973-55b0-4957-9cc5-db5e1b298342",
   "metadata": {},
   "outputs": [
    {
     "name": "stdout",
     "output_type": "stream",
     "text": [
      "[[ 3.  4.  5.  8.]\n",
      " [ 7.  2.  8. nan]]\n",
      "(2, 4)\n",
      "float64\n"
     ]
    }
   ],
   "source": [
    "a1 = np.array([[3,4,5,8],[7,2,8,np.NAN]])\n",
    "print(a1)\n",
    "print(a1.shape)\n",
    "print(a1.dtype)"
   ]
  },
  {
   "cell_type": "markdown",
   "id": "afef953d-182b-456a-9a40-a0f828c0b0b9",
   "metadata": {},
   "source": [
    "a1.reshape(4,2)\n",
    "a1.dtype"
   ]
  },
  {
   "cell_type": "code",
   "execution_count": 50,
   "id": "7b1cf424-afe9-499c-b447-67ea995c557f",
   "metadata": {},
   "outputs": [
    {
     "name": "stdout",
     "output_type": "stream",
     "text": [
      "(2, 4)\n",
      "float64\n"
     ]
    }
   ],
   "source": [
    "print(a1.shape)\n",
    "print(a1.dtype)"
   ]
  },
  {
   "cell_type": "code",
   "execution_count": 52,
   "id": "45098cff-0277-4be6-ba72-913cf4a55ad7",
   "metadata": {},
   "outputs": [
    {
     "name": "stdout",
     "output_type": "stream",
     "text": [
      "[[ 3.  4.  5.  8.]\n",
      " [ 7.  2.  8. nan]]\n"
     ]
    },
    {
     "data": {
      "text/plain": [
       "dtype('float64')"
      ]
     },
     "execution_count": 52,
     "metadata": {},
     "output_type": "execute_result"
    }
   ],
   "source": [
    "# use od astype() to convert the data type\n",
    "a1 = np.array([[3,4,5,8],[7,2,8,np.NAN]])\n",
    "print(a1)\n",
    "a1.dtype"
   ]
  },
  {
   "cell_type": "code",
   "execution_count": 54,
   "id": "5e7802d7-490b-4560-8fa0-b878a9fb31de",
   "metadata": {},
   "outputs": [
    {
     "data": {
      "text/plain": [
       "array([[ 3,  4,  6],\n",
       "       [ 7, 90, 10],\n",
       "       [ 4,  6, 12]])"
      ]
     },
     "execution_count": 54,
     "metadata": {},
     "output_type": "execute_result"
    }
   ],
   "source": [
    "# Mathematical operations in rows and cols\n",
    "a2 = np.array([[3,4,6,],[7,90,10],[4,6,12]])\n",
    "a2"
   ]
  },
  {
   "cell_type": "code",
   "execution_count": 58,
   "id": "02844943-5b68-4102-87f0-c343c4d0994a",
   "metadata": {},
   "outputs": [
    {
     "data": {
      "text/plain": [
       "array([ 14, 100,  28])"
      ]
     },
     "execution_count": 58,
     "metadata": {},
     "output_type": "execute_result"
    }
   ],
   "source": [
    "a2 = np.array([[3,4,6,],[7,90,10],[4,6,12]])\n",
    "a2\n",
    "a2.sum(axis=0)"
   ]
  },
  {
   "cell_type": "code",
   "execution_count": 60,
   "id": "aa675bda-7c26-47a7-bce1-1a472f757b20",
   "metadata": {},
   "outputs": [
    {
     "data": {
      "text/plain": [
       "array([ 13, 107,  22])"
      ]
     },
     "execution_count": 60,
     "metadata": {},
     "output_type": "execute_result"
    }
   ],
   "source": [
    "a2 = np.array([[3,4,6,],[7,90,10],[4,6,12]])\n",
    "a2\n",
    "a2.sum(axis=1)"
   ]
  },
  {
   "cell_type": "code",
   "execution_count": 64,
   "id": "4eaad748-f99f-4b9d-a351-1444d066f5d5",
   "metadata": {},
   "outputs": [
    {
     "name": "stdout",
     "output_type": "stream",
     "text": [
      "[ 13 107  22]\n",
      "[ 14 100  28]\n"
     ]
    }
   ],
   "source": [
    "print(a2.sum(axis = 1))\n",
    "print(a2.sum(axis = 0))"
   ]
  },
  {
   "cell_type": "code",
   "execution_count": 68,
   "id": "1d8ec002-fa43-47be-9bf7-ef3b1dc48477",
   "metadata": {},
   "outputs": [
    {
     "name": "stdout",
     "output_type": "stream",
     "text": [
      "[[ 3  4  6]\n",
      " [ 7 90 10]\n",
      " [ 4  6 12]]\n",
      "[ 4.66666667 33.33333333  9.33333333]\n",
      "[ 4.33333333 35.66666667  7.33333333]\n"
     ]
    }
   ],
   "source": [
    "print(a2)\n",
    "print(a2.mean(axis = 0))\n",
    "print(a2.mean(axis = 1))"
   ]
  },
  {
   "cell_type": "code",
   "execution_count": 70,
   "id": "a3f06dc8-a86d-4d4e-8d63-a38f52d416bb",
   "metadata": {},
   "outputs": [
    {
     "name": "stdout",
     "output_type": "stream",
     "text": [
      "[[ 3  4  6]\n",
      " [ 7 90 10]\n",
      " [ 4  6 12]]\n",
      "[ 4.66666667 33.33333333  9.33333333]\n",
      "[ 4.33333333 35.66666667  7.33333333]\n"
     ]
    }
   ],
   "source": [
    "print(a2)\n",
    "print(a2.mean(axis = 0))\n",
    "print(a2.mean(axis = 1))"
   ]
  },
  {
   "cell_type": "code",
   "execution_count": 74,
   "id": "c05c38b4-1706-4d4c-aa5d-ec77210cf98c",
   "metadata": {},
   "outputs": [
    {
     "name": "stdout",
     "output_type": "stream",
     "text": [
      "[[ 3  4  6]\n",
      " [ 7 90 10]\n",
      " [ 4  6 12]]\n",
      "[[ 0  4  6]\n",
      " [ 7  0 10]\n",
      " [ 4  6  0]]\n"
     ]
    }
   ],
   "source": [
    "a3 = np.array([[3,4,6,],[7,90,10],[4,6,12]])\n",
    "print(a3)\n",
    "np.fill_diagonal(a3,0)\n",
    "print(a3)"
   ]
  },
  {
   "cell_type": "code",
   "execution_count": 82,
   "id": "768fe54f-7bf7-430d-a32d-21c521c35f2e",
   "metadata": {},
   "outputs": [
    {
     "name": "stdout",
     "output_type": "stream",
     "text": [
      "[[19 22]\n",
      " [43 50]]\n",
      "[[1 3]\n",
      " [2 4]]\n",
      "[[5 7]\n",
      " [6 8]]\n"
     ]
    }
   ],
   "source": [
    "A = np.array([[1,2],[3,4]])\n",
    "B = np.array([[5,6],[7,8]])\n",
    "C = np.matmul(A,B)\n",
    "print(C)\n",
    "print(A.T)\n",
    "print(B.T)\n"
   ]
  },
  {
   "cell_type": "code",
   "execution_count": 84,
   "id": "64e2793b-e6ea-44f8-940b-8fffe917e4f8",
   "metadata": {},
   "outputs": [
    {
     "name": "stdout",
     "output_type": "stream",
     "text": [
      "[[1 3]\n",
      " [2 4]]\n",
      "[[5 7]\n",
      " [6 8]]\n"
     ]
    }
   ],
   "source": [
    "print(A.T)\n",
    "print(B.T)\n"
   ]
  },
  {
   "cell_type": "markdown",
   "id": "f9e5f27a-47c6-4dae-a3d0-e53ef5bf473f",
   "metadata": {},
   "source": [
    "a4 = np.array([[1,2,3],[4,5,6],[3,2,1],[6,5,4]])\n",
    "print(a4)"
   ]
  },
  {
   "cell_type": "code",
   "execution_count": null,
   "id": "7fcaaa46-150b-4567-9256-ee7a54e43fc2",
   "metadata": {},
   "outputs": [],
   "source": []
  },
  {
   "cell_type": "code",
   "execution_count": null,
   "id": "c6561972-433e-4d4f-b6b0-c3af99d0f179",
   "metadata": {},
   "outputs": [],
   "source": []
  },
  {
   "cell_type": "code",
   "execution_count": null,
   "id": "0bc13155-e925-4bb1-8ca0-f794fa6c709b",
   "metadata": {},
   "outputs": [],
   "source": []
  },
  {
   "cell_type": "code",
   "execution_count": null,
   "id": "a4ffc3c1-8609-440f-9b82-7ec3df90e250",
   "metadata": {},
   "outputs": [],
   "source": []
  },
  {
   "cell_type": "code",
   "execution_count": null,
   "id": "477f684f-af79-43ea-b753-b9fbf21b374e",
   "metadata": {},
   "outputs": [],
   "source": []
  },
  {
   "cell_type": "code",
   "execution_count": null,
   "id": "09fa6568-21b4-41f1-9016-6af1f3466e64",
   "metadata": {},
   "outputs": [],
   "source": []
  },
  {
   "cell_type": "code",
   "execution_count": null,
   "id": "0f74fae6-e2f8-4a5b-ac2e-4545f64ca643",
   "metadata": {},
   "outputs": [],
   "source": []
  },
  {
   "cell_type": "code",
   "execution_count": null,
   "id": "cbff8ae9-87ce-43e2-a69f-adbe7aac73c2",
   "metadata": {},
   "outputs": [],
   "source": []
  },
  {
   "cell_type": "code",
   "execution_count": null,
   "id": "bf9a5037-4487-4323-b966-6e61d0bfa938",
   "metadata": {},
   "outputs": [],
   "source": []
  },
  {
   "cell_type": "code",
   "execution_count": null,
   "id": "3bb740aa-2847-4351-8e80-a2a382d77a43",
   "metadata": {},
   "outputs": [],
   "source": []
  },
  {
   "cell_type": "code",
   "execution_count": null,
   "id": "0d2b0cb1-64b2-4b09-a319-f8178ed68076",
   "metadata": {},
   "outputs": [],
   "source": []
  },
  {
   "cell_type": "code",
   "execution_count": null,
   "id": "72a90e37-f6b9-4350-8fee-107e0435e401",
   "metadata": {},
   "outputs": [],
   "source": []
  },
  {
   "cell_type": "code",
   "execution_count": null,
   "id": "355ebab3-a0b3-4d61-8758-5d59dcf4a336",
   "metadata": {},
   "outputs": [],
   "source": []
  },
  {
   "cell_type": "code",
   "execution_count": null,
   "id": "c9cb0ea1-17dc-46ba-a6cb-8c40da07afbe",
   "metadata": {},
   "outputs": [],
   "source": []
  },
  {
   "cell_type": "code",
   "execution_count": null,
   "id": "9373f49f-163c-40e2-88d9-cbca810cb849",
   "metadata": {},
   "outputs": [],
   "source": []
  },
  {
   "cell_type": "code",
   "execution_count": null,
   "id": "db12418b-ddf0-4c3a-bd16-dda5f08e16c4",
   "metadata": {},
   "outputs": [],
   "source": []
  }
 ],
 "metadata": {
  "kernelspec": {
   "display_name": "Python [conda env:base] *",
   "language": "python",
   "name": "conda-base-py"
  },
  "language_info": {
   "codemirror_mode": {
    "name": "ipython",
    "version": 3
   },
   "file_extension": ".py",
   "mimetype": "text/x-python",
   "name": "python",
   "nbconvert_exporter": "python",
   "pygments_lexer": "ipython3",
   "version": "3.12.7"
  }
 },
 "nbformat": 4,
 "nbformat_minor": 5
}
